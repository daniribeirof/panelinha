{
 "cells": [
  {
   "cell_type": "code",
   "execution_count": 1,
   "metadata": {},
   "outputs": [
    {
     "name": "stderr",
     "output_type": "stream",
     "text": [
      "/Users/danielaribeiro/Documents/Dados/Portifolio/Panelinha/.venv/lib/python3.9/site-packages/urllib3/__init__.py:35: NotOpenSSLWarning: urllib3 v2 only supports OpenSSL 1.1.1+, currently the 'ssl' module is compiled with 'LibreSSL 2.8.3'. See: https://github.com/urllib3/urllib3/issues/3020\n",
      "  warnings.warn(\n"
     ]
    }
   ],
   "source": [
    "import requests\n",
    "import pandas as pd\n",
    "from lxml import etree, html"
   ]
  },
  {
   "cell_type": "code",
   "execution_count": 2,
   "metadata": {},
   "outputs": [],
   "source": [
    "base_url = \"https://panelinha.com.br\"\n",
    "recipes_url = base_url+\"/home/receitas\""
   ]
  },
  {
   "cell_type": "code",
   "execution_count": 3,
   "metadata": {},
   "outputs": [],
   "source": [
    "source = requests.get(recipes_url)"
   ]
  },
  {
   "cell_type": "code",
   "execution_count": 4,
   "metadata": {},
   "outputs": [
    {
     "data": {
      "text/plain": [
       "200"
      ]
     },
     "execution_count": 4,
     "metadata": {},
     "output_type": "execute_result"
    }
   ],
   "source": [
    "source.status_code"
   ]
  },
  {
   "cell_type": "code",
   "execution_count": 5,
   "metadata": {},
   "outputs": [
    {
     "data": {
      "text/plain": [
       "<Element html at 0x1144b49c0>"
      ]
     },
     "execution_count": 5,
     "metadata": {},
     "output_type": "execute_result"
    }
   ],
   "source": [
    "tree = etree.HTML(source.text)\n",
    "tree"
   ]
  },
  {
   "cell_type": "code",
   "execution_count": 6,
   "metadata": {},
   "outputs": [
    {
     "name": "stdout",
     "output_type": "stream",
     "text": [
      "{'Aperitivos': 'https://panelinha.com.br/busca?refinementList%5Bcategories%5D%5B0%5D=Aperitivos&menu%5Bpage_type%5D=Receitas', 'Carnes': 'https://panelinha.com.br/busca?refinementList%5Bcategories%5D%5B0%5D=Carnes&menu%5Bpage_type%5D=Receitas', 'Aves': 'https://panelinha.com.br/busca?menu%5Bpage_type%5D=Receitas&refinementList%5Bcategories%5D%5B0%5D=Aves', 'Peixes': 'https://panelinha.com.br/busca?refinementList%5Bcategories%5D%5B0%5D=Peixes&menu%5Bpage_type%5D=Receitas', 'Sem carne': 'https://panelinha.com.br/busca?menu%5Bpage_type%5D=Receitas&refinementList%5Bcuisines%5D%5B0%5D=vegetariana', 'Acompanhamentos': 'https://panelinha.com.br/busca?refinementList%5Bcategories%5D%5B0%5D=Acompanhamentos&menu%5Bpage_type%5D=Receitas', 'Frutos do mar': 'https://panelinha.com.br/busca?menu%5Bpage_type%5D=Receitas&refinementList%5Bcategories%5D%5B0%5D=Frutos%20do%20mar', 'Massas': 'https://panelinha.com.br/busca?menu%5Bpage_type%5D=Receitas&refinementList%5Bcategories%5D%5B0%5D=Massas', 'Sobremesas': 'https://panelinha.com.br/busca?menu%5Bpage_type%5D=Receitas&refinementList%5Bcategories%5D%5B0%5D=Sobremesas'}\n"
     ]
    }
   ],
   "source": [
    "recipes = tree.xpath('//div[@class=\"f fc mod jsTrackItem\"]')\n",
    "\n",
    "categories = {}\n",
    "\n",
    "for e in recipes:\n",
    "    list_name = e.get('data-item-list-name').encode('latin1').decode('utf-8')\n",
    "    if list_name == 'Faça sua busca aqui':\n",
    "        category = e.get('data-item-name').encode('latin1').decode('utf-8')\n",
    "        e_tree = etree.HTML(html.tostring(e))\n",
    "        url=e_tree.xpath('//a[@class=\"w100 f fcr tDn\"]/@href')\n",
    "        \n",
    "        categories[category]=base_url+url[0]\n",
    "\n",
    "print(categories)"
   ]
  },
  {
   "cell_type": "code",
   "execution_count": 7,
   "metadata": {},
   "outputs": [
    {
     "name": "stdout",
     "output_type": "stream",
     "text": [
      "Aperitivos https://panelinha.com.br/busca?refinementList%5Bcategories%5D%5B0%5D=Aperitivos&menu%5Bpage_type%5D=Receitas\n",
      "Carnes https://panelinha.com.br/busca?refinementList%5Bcategories%5D%5B0%5D=Carnes&menu%5Bpage_type%5D=Receitas\n",
      "Aves https://panelinha.com.br/busca?menu%5Bpage_type%5D=Receitas&refinementList%5Bcategories%5D%5B0%5D=Aves\n",
      "Peixes https://panelinha.com.br/busca?refinementList%5Bcategories%5D%5B0%5D=Peixes&menu%5Bpage_type%5D=Receitas\n",
      "Sem carne https://panelinha.com.br/busca?menu%5Bpage_type%5D=Receitas&refinementList%5Bcuisines%5D%5B0%5D=vegetariana\n",
      "Acompanhamentos https://panelinha.com.br/busca?refinementList%5Bcategories%5D%5B0%5D=Acompanhamentos&menu%5Bpage_type%5D=Receitas\n",
      "Frutos do mar https://panelinha.com.br/busca?menu%5Bpage_type%5D=Receitas&refinementList%5Bcategories%5D%5B0%5D=Frutos%20do%20mar\n",
      "Massas https://panelinha.com.br/busca?menu%5Bpage_type%5D=Receitas&refinementList%5Bcategories%5D%5B0%5D=Massas\n",
      "Sobremesas https://panelinha.com.br/busca?menu%5Bpage_type%5D=Receitas&refinementList%5Bcategories%5D%5B0%5D=Sobremesas\n"
     ]
    }
   ],
   "source": [
    "for k,v in categories.items():\n",
    "    print(k,v)"
   ]
  },
  {
   "cell_type": "code",
   "execution_count": 14,
   "metadata": {},
   "outputs": [],
   "source": [
    "categories_url = base_url+\"/busca?refinementList%5Bcategories%5D%5B0%5D=Aperitivos&menu%5Bpage_type%5D=Receitas\""
   ]
  },
  {
   "cell_type": "code",
   "execution_count": 15,
   "metadata": {},
   "outputs": [],
   "source": [
    "source_cat = requests.get(categories_url)"
   ]
  },
  {
   "cell_type": "code",
   "execution_count": 16,
   "metadata": {},
   "outputs": [
    {
     "data": {
      "text/plain": [
       "200"
      ]
     },
     "execution_count": 16,
     "metadata": {},
     "output_type": "execute_result"
    }
   ],
   "source": [
    "source_cat.status_code"
   ]
  },
  {
   "cell_type": "code",
   "execution_count": 18,
   "metadata": {},
   "outputs": [
    {
     "data": {
      "text/plain": [
       "'<!doctype html><html lang=pt-br><head prefix=\"\"><meta charset=UTF-8><meta name=viewport content=\"width=device-width,initial-scale=1\"><meta http-equiv=X-UA-Compatible content=\"ie=edge\"><link rel=preconnect href=https://securepubads.g.doubleclick.net><link rel=dns-prefetch href=https://securepubads.g.doubleclick.net><link rel=preconnect href=https://www.googletagmanager.com><link rel=dns-prefetch href=https://www.googletagmanager.com><link rel=preload href=/s/l/panelinha.svg as=image type=image/svg+xml><link rel=preload href=/s/f/bt-r.woff2 as=font type=font/woff2 crossorigin><link rel=preload href=/s/f/bt-b.woff2 as=font type=font/woff2 crossorigin><link rel=manifest href=/manifest.webmanifest><link rel=icon href=/favicon.ico sizes=any><link rel=icon href=/icon-v1.svg type=image/svg+xml><link rel=apple-touch-icon href=/apple-touch-icon-v1.png><link rel=preload as=style href=/build/assets/panelinha-e2yl1xpz.css><link rel=stylesheet href=/build/assets/panelinha-e2yl1xpz.css><title>Buscando no Panelinha</title><meta name=description content=\"Encontre receitas que funcionam e informaÃ§Ãµes sobre como ter uma alimentaÃ§Ã£o saudÃ¡vel de verdade, com embasamento cientÃ\\xadfico.\"><meta property=og:title content=\"Buscando no Panelinha\"><meta property=og:description content=\"Encontre receitas que funcionam e informaÃ§Ãµes sobre como ter uma alimentaÃ§Ã£o saudÃ¡vel de verdade, com embasamento cientÃ\\xadfico.\"><meta property=og:site_name content=\"Panelinha - Receitas que funcionam\"><meta property=og:url content=https://panelinha.com.br/busca><meta property=og:type content=article><meta property=og:locale content=pt_BR><meta property=article:publisher content=https://www.facebook.com/Panelinha/ ><meta property=article:author content=https://www.facebook.com/RitaLobo0><link rel=canonical href=https://panelinha.com.br/busca><meta name=twitter:title content=\"Buscando no Panelinha\"><meta name=twitter:description content=\"Encontre receitas que funcionam e informaÃ§Ãµes sobre como ter uma alimentaÃ§Ã£o saudÃ¡vel de verdade, com embasamento cientÃ\\xadfico.\"><meta name=twitter:card content=summary_large_image><meta name=twitter:site content=@panelinha><meta name=twitter:creator content=@ritalobo><link rel=modulepreload href=/build/assets/hydrate_search-gqkkijlx.js><link rel=modulepreload href=/build/assets/hooks.module-i3el56qq.js><link rel=modulepreload href=/build/assets/_commonjsHelpers-jxfq6knx.js><link rel=modulepreload href=/build/assets/index-kg8t3v65.js><link rel=modulepreload href=/build/assets/block_content-g9xv0eta.js><link rel=modulepreload href=/build/assets/gtag-flifqj8u.js><script type=module src=/build/assets/hydrate_search-gqkkijlx.js></script><meta property=fb:app_id content=565718948596857><link rel=modulepreload href=/build/assets/panelinha-nrzpdn24.js><link rel=modulepreload href=/build/assets/gtag-flifqj8u.js><link rel=modulepreload href=/build/assets/_commonjsHelpers-jxfq6knx.js><script type=module src=/build/assets/panelinha-nrzpdn24.js></script><script>window.googletag = window.googletag || {cmd: []};</script><script type=module>const set = () => {\\n\\t\\t\\t\\tconst trigger = document.getElementById(\\'jsTriggerSearchBox\\');\\n\\t\\t\\t\\ttrigger.addEventListener(\"click\", () => {\\n\\t\\t\\t\\t\\tif(window.location.pathname.includes(\\'/busca\\')) {\\n\\t\\t\\t\\t\\t\\tdocument.getElementById(\\'main_search_field\\')?.focus();\\n\\t\\t\\t\\t\\t} else {\\n\\t\\t\\t\\t\\t\\tconst iconSwap = document.getElementById(\\'jsSearchBoxIconSwap\\');\\n\\t\\t\\t\\t\\t\\ticonSwap.innerHTML = \\'<div class=\"whB15\"><div class=\"cExSpin\"></div></div>\\';\\n\\t\\t\\t\\t\\t\\timport(\\'/build/assets/hydrate_search_box-h4skbxjd.js\\').then(module => {});\\n\\t\\t\\t\\t\\t};\\n\\t\\t\\t\\t}, {once: true});\\n\\t\\t\\t};\\n\\t\\t\\tset();</script><style>.imgRe,.imgReMax,.imgUn{width:100%;height:auto;color:transparent;object-fit:contain}.imgReMax{width:auto;max-width:100%}.imgUn{position:absolute;inset:0;max-width:100%;height:100%}</style></head><body data-nav=false><div id=main><nav class=\"f fr bb bCbc mbB1-oB psB1-oB lmWExtra pr\"><ul class=\"f fr fAlc fJCsb w100\"><li class=\"f fr fJCc fAlc pr bt50 nmlB1-oB not-desktop\"><button class=\"bt50 jsToggleSidebar cp\" aria-label=Menu><span class=\"cExIcon i_menu i_bc l\"></span></button></li><li aria-label=InÃ\\xadcio><a href=/ class=jsTrackSelectContent data-content-id=home data-content-type=header_logo><img src=/s/l/panelinha.svg height=25 width=150 alt=Panelinha></a></li><li class=\"only-desktop fg1\"><ul class=\"f fr fAlc cExHeaderLinks\"><li><a href=/home/receitas class=jsTrackSelectContent data-content-id=receitas data-content-type=header_page>Receitas</a></li><li><a href=/escola-panelinha-rita-lobo class=jsTrackSelectContent data-content-id=escola data-content-type=header_page>Cursos</a></li><li><a href=/loja class=jsTrackSelectContent data-content-id=loja data-content-type=header_page>Loja</a></li><li><a href=/home/cozinha-pratica class=jsTrackSelectContent data-content-id=cozinha-pratica data-content-type=header_page>Cozinha PrÃ¡tica</a></li><li><a href=https://www.youtube.com/user/sitepanelinha class=jsTrackSelectContent data-content-id=youtube data-content-type=header_external_page>VÃ\\xaddeo</a></li><li><a href=/blog class=jsTrackSelectContent data-content-id=blogs data-content-type=header_page>Blogs</a></li></ul></li><li><ul class=\"f fr fAlc cExHeaderActions\"><li class=only-desktop><a class=\"tCs jsTrackSelectContent\" href=/receitas-favoritas data-content-id=receitas-favoritas data-content-type=header_page>Receitas Favoritas</a></li><li id=jsTriggerSearchBox class=\"f fr fJCc fAlc pr bt50 nmrB1-oB\"><div id=jsSearchBoxIconSwap class=\"bt50 f fAlc fJCc\"><button class=\"bt50 cp\" aria-label=Busca><span class=\"cExIcon i_search i_bc l\"></span></button></div></li></ul></li></ul><div id=jsSearchBoxPlaceholder></div></nav><div class=cExBody><div id=jsSearchContainer></div></div><footer class=\"bgn ptbB2 psB1 f fc fAlc\"><div class=mbB2><div class=\"f fc fAlc\"><p class=\"tSt tSl mbS1 tTup\">Siga o <strong>Panelinha</strong></p><div class=cExCtnSi><a href=https://instagram.com/panelinha_ritalobo class=jsTrackSelectContent target=_blank rel=noreferrer aria-label=\"Instagram do Panelinha\" data-content-id=instagram data-content-type=footer_social><span class=\"cExIcon i_instagram i_bc\"></span> </a><a href=https://facebook.com/Panelinha class=jsTrackSelectContent target=_blank rel=noreferrer aria-label=\"Facebook do Panelinha\" data-content-id=facebook data-content-type=footer_social><span class=\"cExIcon i_facebook i_bc\"></span> </a><a href=https://pinterest.com/panelinha class=jsTrackSelectContent target=_blank rel=noreferrer aria-label=\"Pinterest do Panelinha\" data-content-id=pinterest data-content-type=footer_social><span class=\"cExIcon i_pinterest i_bc\"></span> </a><a href=https://twitter.com/panelinha class=jsTrackSelectContent target=_blank rel=noreferrer aria-label=\"Twitter do Panelinha\" data-content-id=twitter data-content-type=footer_social><span class=\"cExIcon i_twitter i_bc\"></span> </a><a href=https://youtube.com/sitepanelinha class=jsTrackSelectContent target=_blank rel=noreferrer aria-label=\"Canal Panelinha no Youtube\" data-content-id=youtube data-content-type=footer_social><span class=\"cExIcon i_youtube i_bc\"></span> </a><a href=https://www.whatsapp.com/channel/0029Va8Ysz8CnA7xtlj1BM3O class=jsTrackSelectContent target=_blank rel=noreferrer aria-label=\"Canal Panelinha no WhatsApp\" data-content-id=whatsapp_channel data-content-type=footer_social><span class=\"cExIcon i_whatsapp i_bc\"></span></a></div></div></div><div class=mbB2><div class=\"f fc fAlc\"><p class=\"tSt tSl mbS1 tTup\">Siga a <strong>Rita Lobo</strong></p><div class=cExCtnSi><a href=https://instagram.com/ritalobo class=jsTrackSelectContent target=_blank rel=noreferrer aria-label=\"Instagram da Rita Lobo\" data-content-id=instagram data-content-type=footer_social><span class=\"cExIcon i_instagram i_bc\"></span> </a><a href=https://facebook.com/RitaLobo0/ class=jsTrackSelectContent target=_blank rel=noreferrer aria-label=\"Facebook da Rita Lobo\" data-content-id=facebook data-content-type=footer_social><span class=\"cExIcon i_facebook i_bc\"></span> </a><a href=https://twitter.com/RitaLobo class=jsTrackSelectContent target=_blank rel=noreferrer aria-label=\"Twitter da Rita Lobo\" data-content-id=twitter data-content-type=footer_social><span class=\"cExIcon i_twitter i_bc\"></span> </a><a href=https://youtube.com/sitepanelinha class=jsTrackSelectContent target=_blank rel=noreferrer aria-label=\"Canal Panelinha no Youtube\" data-content-id=youtube data-content-type=footer_social><span class=\"cExIcon i_youtube i_bc\"></span> </a><a href=https://www.tiktok.com/@ritalobo class=jsTrackSelectContent target=_blank rel=noreferrer aria-label=\"TikTok da Rita Lobo\" data-content-id=tiktok data-content-type=footer_social><span class=\"cExIcon i_tiktok i_bc\"></span></a></div></div></div><ul class=\"f fr fgp10p mbB2\"><li><a href=/politica-de-privacidade class=jsTrackSelectContent data-content-id=privacy-policy data-content-type=footer_page>PolÃ\\xadtica de Privacidade</a></li><li><a href=/termos-de-uso class=jsTrackSelectContent data-content-id=terms-of-use data-content-type=footer_page>Termos de Uso</a></li></ul><small class=tSt2>Editora Panelinha LTDA. Â© 2000</small></footer></div><aside id=sidebar><nav><ul><li><a class=\"tCs jsTrackSelectContent\" href=/receitas-favoritas data-content-id=receitas-favoritas data-content-type=sidebar_page>Receitas favoritas</a></li><li><hr></li><li><a href=/home/receitas class=jsTrackSelectContent data-content-id=receitas data-content-type=sidebar_page>Receitas</a></li><li><a href=/home/airfryer class=jsTrackSelectContent data-content-id=airfryer data-content-type=sidebar_page>Airfryer</a></li><li><a href=/escola-panelinha-rita-lobo class=jsTrackSelectContent data-content-id=escola data-content-type=sidebar_page>Cursos</a></li><li><a href=/loja class=jsTrackSelectContent data-content-id=loja data-content-type=sidebar_page>Loja</a></li><li><a href=/home/especiais class=jsTrackSelectContent data-content-id=especiais data-content-type=sidebar_page>Especiais</a></li><li><a href=/home/cozinha-pratica class=jsTrackSelectContent data-content-id=cozinha-pratica data-content-type=sidebar_page>Cozinha PrÃ¡tica</a></li><li><a href=https://www.youtube.com/user/sitepanelinha class=jsTrackSelectContent data-content-id=youtube data-content-type=sidebar_external_page>VÃ\\xaddeo</a></li><li><a href=/blog class=jsTrackSelectContent data-content-id=blogs data-content-type=sidebar_page>Blogs</a></li><li><a href=/home/ritalobo class=jsTrackSelectContent data-content-id=rita-lobo data-content-type=sidebar_page>Rita Lobo</a></li></ul></nav><hr><div class=sidebarctnFollow><div><p class=\"tSt tSl mbS1 tTup\">Siga o <strong>Panelinha</strong></p><div class=\"cExCtnSi mlmG25\"><a href=https://instagram.com/panelinha_ritalobo class=jsTrackSelectContent target=_blank rel=noreferrer aria-label=\"Instagram do Panelinha\" data-content-id=instagram data-content-type=sidebar_social><span class=\"cExIcon i_instagram i_bc\"></span> </a><a href=https://facebook.com/Panelinha class=jsTrackSelectContent target=_blank rel=noreferrer aria-label=\"Facebook do Panelinha\" data-content-id=facebook data-content-type=sidebar_social><span class=\"cExIcon i_facebook i_bc\"></span> </a><a href=https://pinterest.com/panelinha class=jsTrackSelectContent target=_blank rel=noreferrer aria-label=\"Pinterest do Panelinha\" data-content-id=pinterest data-content-type=sidebar_social><span class=\"cExIcon i_pinterest i_bc\"></span> </a><a href=https://twitter.com/panelinha class=jsTrackSelectContent target=_blank rel=noreferrer aria-label=\"Twitter do Panelinha\" data-content-id=twitter data-content-type=sidebar_social><span class=\"cExIcon i_twitter i_bc\"></span> </a><a href=https://youtube.com/sitepanelinha class=jsTrackSelectContent target=_blank rel=noreferrer aria-label=\"Canal Panelinha no Youtube\" data-content-id=youtube data-content-type=sidebar_social><span class=\"cExIcon i_youtube i_bc\"></span> </a><a href=https://www.whatsapp.com/channel/0029Va8Ysz8CnA7xtlj1BM3O class=jsTrackSelectContent target=_blank rel=noreferrer aria-label=\"Canal Panelinha no WhatsApp\" data-content-id=whatsapp_channel data-content-type=sidebar_social><span class=\"cExIcon i_whatsapp i_bc\"></span></a></div></div></div><div class=sidebarctnFollow><div><p class=\"tSt tSl mbS1 tTup\">Siga a <strong>Rita Lobo</strong></p><div class=\"cExCtnSi mlmG25\"><a href=https://instagram.com/ritalobo class=jsTrackSelectContent target=_blank rel=noreferrer aria-label=\"Instagram da Rita Lobo\" data-content-id=instagram data-content-type=sidebar_social><span class=\"cExIcon i_instagram i_bc\"></span> </a><a href=https://facebook.com/RitaLobo0/ class=jsTrackSelectContent target=_blank rel=noreferrer aria-label=\"Facebook da Rita Lobo\" data-content-id=facebook data-content-type=sidebar_social><span class=\"cExIcon i_facebook i_bc\"></span> </a><a href=https://twitter.com/RitaLobo class=jsTrackSelectContent target=_blank rel=noreferrer aria-label=\"Twitter da Rita Lobo\" data-content-id=twitter data-content-type=sidebar_social><span class=\"cExIcon i_twitter i_bc\"></span> </a><a href=https://youtube.com/sitepanelinha class=jsTrackSelectContent target=_blank rel=noreferrer aria-label=\"Canal Panelinha no Youtube\" data-content-id=youtube data-content-type=sidebar_social><span class=\"cExIcon i_youtube i_bc\"></span> </a><a href=https://www.tiktok.com/@ritalobo class=jsTrackSelectContent target=_blank rel=noreferrer aria-label=\"TikTok da Rita Lobo\" data-content-id=tiktok data-content-type=sidebar_social><span class=\"cExIcon i_tiktok i_bc\"></span></a></div></div></div></aside><div id=overlay class=jsCloseSidebar></div><script id=gascript defer src=\"https://www.googletagmanager.com/gtag/js?id=G-JSE09BQ8EJ\"></script><script>window.dataLayer = window.dataLayer || [];\\nfunction gtag(){dataLayer.push(arguments);}\\ngtag(\\'js\\', new Date());\\n\\nconst user = localStorage.getItem(\\'user\\');\\n\\nif(user !== \\'null\\') {\\n\\ttry {\\n\\t\\tgtag(\\'config\\', \\'G-JSE09BQ8EJ\\', {user_id: JSON.parse(user).uid});\\n\\t} catch (error) {\\n\\t\\tgtag(\\'config\\', \\'G-JSE09BQ8EJ\\');\\n\\t}\\n} else {\\n\\tgtag(\\'config\\', \\'G-JSE09BQ8EJ\\');\\n}</script></body></html>'"
      ]
     },
     "execution_count": 18,
     "metadata": {},
     "output_type": "execute_result"
    }
   ],
   "source": [
    "source_cat.text"
   ]
  },
  {
   "cell_type": "code",
   "execution_count": 19,
   "metadata": {},
   "outputs": [
    {
     "data": {
      "text/plain": [
       "<Element html at 0x115a56a80>"
      ]
     },
     "execution_count": 19,
     "metadata": {},
     "output_type": "execute_result"
    }
   ],
   "source": [
    "tree = etree.HTML(source_cat.text)\n",
    "tree"
   ]
  },
  {
   "cell_type": "code",
   "execution_count": 22,
   "metadata": {},
   "outputs": [
    {
     "data": {
      "text/plain": [
       "[]"
      ]
     },
     "execution_count": 22,
     "metadata": {},
     "output_type": "execute_result"
    }
   ],
   "source": [
    "#recipes_aperitivos = tree.xpath('//div[@class=\"f fc mod\"]')\n",
    "\n",
    "recipes_aperitivos = tree.xpath('//a[@class=\"w100 f fcr tDn\"]') \n",
    "\n",
    "recipes_aperitivos"
   ]
  },
  {
   "cell_type": "code",
   "execution_count": null,
   "metadata": {},
   "outputs": [],
   "source": []
  }
 ],
 "metadata": {
  "kernelspec": {
   "display_name": ".venv",
   "language": "python",
   "name": "python3"
  },
  "language_info": {
   "codemirror_mode": {
    "name": "ipython",
    "version": 3
   },
   "file_extension": ".py",
   "mimetype": "text/x-python",
   "name": "python",
   "nbconvert_exporter": "python",
   "pygments_lexer": "ipython3",
   "version": "3.9.6"
  }
 },
 "nbformat": 4,
 "nbformat_minor": 2
}
